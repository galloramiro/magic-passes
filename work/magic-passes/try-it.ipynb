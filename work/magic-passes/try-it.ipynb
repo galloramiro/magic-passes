{
 "cells": [
  {
   "cell_type": "markdown",
   "metadata": {},
   "source": [
    "# The magic passes problem\n",
    "The wizards at the magic academy are having trouble saying their magic passes because they can't calculate remains. Help them!\n",
    "\n",
    "To say spells they first have to count to a number but if the number is multiple of 3 replace it with \"abracadabra\" and if the number is multiple of 5 replace it with \"alakazam\". If it is a multiple of 3 and 5 they have to say \"abracadabraalakazam\".\n",
    "\n",
    "Make a python script that receives the number they have to reach and print out what magic words they have to say before their spell.\n"
   ]
  },
  {
   "cell_type": "code",
   "execution_count": 1,
   "metadata": {},
   "outputs": [],
   "source": [
    "from magic_passes import MagicPasses\n",
    "magic_passes = MagicPasses()"
   ]
  },
  {
   "cell_type": "code",
   "execution_count": null,
   "metadata": {},
   "outputs": [],
   "source": [
    "magic_passes.get_magic_count(20)  # Select a number and give enter! :D"
   ]
  }
 ],
 "metadata": {
  "kernelspec": {
   "display_name": "Python 3",
   "language": "python",
   "name": "python3"
  },
  "language_info": {
   "codemirror_mode": {
    "name": "ipython",
    "version": 3
   },
   "file_extension": ".py",
   "mimetype": "text/x-python",
   "name": "python",
   "nbconvert_exporter": "python",
   "pygments_lexer": "ipython3",
   "version": "3.8.4"
  }
 },
 "nbformat": 4,
 "nbformat_minor": 4
}
